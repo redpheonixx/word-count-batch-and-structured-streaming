{
 "cells": [
  {
   "cell_type": "code",
   "execution_count": 0,
   "metadata": {
    "application/vnd.databricks.v1+cell": {
     "cellMetadata": {
      "byteLimit": 2048000,
      "rowLimit": 10000
     },
     "inputWidgets": {},
     "nuid": "f95cdf47-a1e8-4b65-9061-2794697a9dc4",
     "showTitle": false,
     "title": ""
    }
   },
   "outputs": [
    {
     "output_type": "stream",
     "name": "stdout",
     "output_type": "stream",
     "text": [
      "\tExecuting Word Count...Done\n76665\n"
     ]
    }
   ],
   "source": [
    "%run ./01_batchWC"
   ]
  },
  {
   "cell_type": "code",
   "execution_count": 0,
   "metadata": {
    "application/vnd.databricks.v1+cell": {
     "cellMetadata": {
      "byteLimit": 2048000,
      "rowLimit": 10000
     },
     "inputWidgets": {},
     "nuid": "7ba322d5-38cf-40de-822a-87b131f005cd",
     "showTitle": false,
     "title": ""
    }
   },
   "outputs": [],
   "source": [
    "class batchWCTestSuite():\n",
    "    def __init__(self):\n",
    "        self.base_data_dir=\"/FileStore/week01\"\n",
    "\n",
    "    def cleanTests(self):\n",
    "        print(f\"Starting Cleanup...\", end='')\n",
    "        spark.sql(\"drop table if exists word_count_table\")\n",
    "        dbutils.fs.rm(\"/user/hive/warehouse/word_count_table\", True)\n",
    "\n",
    "        dbutils.fs.rm(f\"{self.base_data_dir}/checkpoint\", True)\n",
    "        dbutils.fs.rm(f\"{self.base_data_dir}/data\", True)\n",
    "\n",
    "        dbutils.fs.mkdirs(f\"{self.base_data_dir}/data\")\n",
    "        print(\"Done\\n\")\n",
    "\n",
    "    def ingestData(self, itr):\n",
    "        print(f\"\\Starting ingestion...\", end='')\n",
    "        dbutils.fs.cp(f\"{self.base_data_dir}/text_0{itr}.txt\", f\"{self.base_data_dir}/data/\")\n",
    "        print(\"Done\")\n",
    "\n",
    "    def assertResult(self, expected_count):\n",
    "        print(f\"\\Starting validation...\", end='')\n",
    "        actual_count=spark.sql(\"select sum(count) from word_count_table\").collect()[0][0]\n",
    "        assert expected_count==actual_count, f\"Test failed! actual count is {actual_count}\"\n",
    "        print(actual_count)\n",
    "\n",
    "    def runTests(self):\n",
    "        self.cleanTests()\n",
    "        wc=batchWC()\n",
    "\n",
    "        print(\"Testing first iteration of batch word count...\")\n",
    "        self.cleanTests()\n",
    "        self.ingestData(1)\n",
    "        wc.wordCount()\n",
    "        self.assertResult(29010)\n",
    "        print(\"First iteration of batch word count completed.\\n\")\n",
    "\n",
    "        print(\"Testing second iteration of batch word count...\")\n",
    "        #self.cleanTests()\n",
    "        self.ingestData(2)\n",
    "        wc.wordCount()\n",
    "        self.assertResult(175797)\n",
    "        print(\"Second iteration of batch word count completed.\\n\")\n",
    "\n",
    "        print(\"Testing third iteration of batch word count...\")\n",
    "        #self.cleanTests()\n",
    "        self.ingestData(3)\n",
    "        wc.wordCount()\n",
    "        self.assertResult(252462)\n",
    "        print(\"Third iteration of batch word count completed.\\n\")\n",
    "                                                                  \n"
   ]
  },
  {
   "cell_type": "code",
   "execution_count": 0,
   "metadata": {
    "application/vnd.databricks.v1+cell": {
     "cellMetadata": {
      "byteLimit": 2048000,
      "rowLimit": 10000
     },
     "inputWidgets": {},
     "nuid": "2eb9ecc6-3a67-4459-befe-e752454d014f",
     "showTitle": false,
     "title": ""
    }
   },
   "outputs": [
    {
     "output_type": "stream",
     "name": "stdout",
     "output_type": "stream",
     "text": [
      "Starting Cleanup...Done\n\nTesting first iteration of batch word count...\nStarting Cleanup...Done\n\n\\Starting ingestion...Done\n\tExecuting Word Count...Done\n\\Starting validation...29010\nFirst iteration of batch word count completed.\n\nTesting second iteration of batch word count...\n\\Starting ingestion...Done\n\tExecuting Word Count...Done\n\\Starting validation...175797\nSecond iteration of batch word count completed.\n\nTesting third iteration of batch word count...\n\\Starting ingestion...Done\n\tExecuting Word Count...Done\n\\Starting validation...252462\nThird iteration of batch word count completed.\n\n"
     ]
    }
   ],
   "source": [
    "bwcTS = batchWCTestSuite()\n",
    "bwcTS.runTests()"
   ]
  }
 ],
 "metadata": {
  "application/vnd.databricks.v1+notebook": {
   "dashboards": [],
   "language": "python",
   "notebookMetadata": {
    "pythonIndentUnit": 4
   },
   "notebookName": "01_batchTestSuite",
   "widgets": {}
  }
 },
 "nbformat": 4,
 "nbformat_minor": 0
}

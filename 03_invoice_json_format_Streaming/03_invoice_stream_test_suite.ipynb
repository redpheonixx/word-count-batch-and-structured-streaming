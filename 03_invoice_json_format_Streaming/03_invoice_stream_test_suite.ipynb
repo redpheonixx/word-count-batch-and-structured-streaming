{
 "cells": [
  {
   "cell_type": "code",
   "execution_count": 0,
   "metadata": {
    "application/vnd.databricks.v1+cell": {
     "cellMetadata": {
      "byteLimit": 2048000,
      "rowLimit": 10000
     },
     "inputWidgets": {},
     "nuid": "88303ad3-dfa6-4f5e-97f1-9e2a737075ce",
     "showTitle": false,
     "title": ""
    }
   },
   "outputs": [],
   "source": [
    "%run ./03_invoice_stream"
   ]
  },
  {
   "cell_type": "code",
   "execution_count": 0,
   "metadata": {
    "application/vnd.databricks.v1+cell": {
     "cellMetadata": {
      "byteLimit": 2048000,
      "rowLimit": 10000
     },
     "inputWidgets": {},
     "nuid": "10401dbe-1ff0-407f-81b8-1f701896186a",
     "showTitle": false,
     "title": ""
    }
   },
   "outputs": [],
   "source": [
    "class invoiceStreamTestSuite():\n",
    "    def __init__(self):\n",
    "        self.base_data_dir = \"/FileStore/invoices\"\n",
    "    \n",
    "    def cleanTests(self):\n",
    "        print(f\"Starting Cleanup...\", end='')\n",
    "        spark.sql(\"drop table if exists invoice_line_items\")\n",
    "        dbutils.fs.rm(\"/user/hive/warehouse/invoice_line_items\", True)\n",
    "        \n",
    "        dbutils.fs.rm(f\"{self.base_data_dir}/chekpoint/invoices\", True)\n",
    "        dbutils.fs.rm(f\"{self.base_data_dir}/data\", True)\n",
    "\n",
    "        dbutils.fs.mkdirs(f\"{self.base_data_dir}/data\")\n",
    "        print(\"Done\")\n",
    "\n",
    "    def ingestData(self, itr):\n",
    "        print(f\"\\tStarting Ingestion...\", end='')\n",
    "        dbutils.fs.cp(f\"{self.base_data_dir}/invoices_{itr}.json\", f\"{self.base_data_dir}/data/\")\n",
    "        print(\"Done\")\n",
    "\n",
    "    def assertResult(self, expected_count):\n",
    "        print(f\"\\tStarting validation...\", end='')\n",
    "        actual_count=spark.sql(\"select count(*) from invoice_line_items\").collect()[0][0]\n",
    "        assert expected_count== actual_count, f\"Test failed! actual count is {actual_count}\"\n",
    "        print(\"Done\")\n",
    "\n",
    "    def waitForMicroBatch(self, sleep=30):\n",
    "        import time\n",
    "        print(f\"\\tWaiting for {sleep} seconds...\", end='')\n",
    "        time.sleep(sleep)\n",
    "        print(\"Done\")\n",
    "\n",
    "    def runTests(self):\n",
    "        self.cleanTests()\n",
    "        iStream = invoiceStream()\n",
    "        streamQuery = iStream.process()\n",
    "\n",
    "        print(\"Testing first iteration of invoice stream...\")\n",
    "        self.ingestData(1)\n",
    "        self.waitForMicroBatch()\n",
    "        self.assertResult(1253)\n",
    "        print(\"Validation passed.\\n\")\n",
    "\n",
    "        print(\"Testing second iteraiton of invoice stream...\")\n",
    "        self.ingestData(2)\n",
    "        self.waitForMicroBatch()\n",
    "        self.assertResult(2510)\n",
    "        print(\"Validation passed.\\n\")\n",
    "\n",
    "        print(\"Testing third iteration of invoice stream...\")\n",
    "        self.ingestData(3)\n",
    "        self.waitForMicroBatch()\n",
    "        self.assertResult(3994)\n",
    "        print(\"Validation passed.\\n\")\n",
    "\n",
    "        streamQuery.stop()\n"
   ]
  },
  {
   "cell_type": "code",
   "execution_count": 0,
   "metadata": {
    "application/vnd.databricks.v1+cell": {
     "cellMetadata": {
      "byteLimit": 2048000,
      "rowLimit": 10000
     },
     "inputWidgets": {},
     "nuid": "305642fc-77a8-46bd-9a73-6fc02dde02b8",
     "showTitle": false,
     "title": ""
    }
   },
   "outputs": [
    {
     "output_type": "stream",
     "name": "stdout",
     "output_type": "stream",
     "text": [
      "Starting Cleanup...Done\nStarting Invoice Processing Stream...Done\n\nTesting first iteration of invoice stream...\n\tStarting Ingestion...Done\n\tWaiting for 30 seconds...Done\n\tStarting validation...Done\nValidation passed.\n\nTesting second iteraiton of invoice stream...\n\tStarting Ingestion...Done\n\tWaiting for 30 seconds...Done\n\tStarting validation...Done\nValidation passed.\n\nTesting third iteration of invoice stream...\n\tStarting Ingestion...Done\n\tWaiting for 30 seconds...Done\n\tStarting validation...Done\nValidation passed.\n\n"
     ]
    }
   ],
   "source": [
    "isTS = invoiceStreamTestSuite()\n",
    "isTS.runTests()\t\n",
    "#isTS.cleanTests()"
   ]
  }
 ],
 "metadata": {
  "application/vnd.databricks.v1+notebook": {
   "dashboards": [],
   "language": "python",
   "notebookMetadata": {
    "pythonIndentUnit": 4
   },
   "notebookName": "03_invoice_stream_test_suite",
   "widgets": {}
  }
 },
 "nbformat": 4,
 "nbformat_minor": 0
}

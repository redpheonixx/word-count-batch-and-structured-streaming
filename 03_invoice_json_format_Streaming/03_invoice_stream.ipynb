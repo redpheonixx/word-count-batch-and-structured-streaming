{
 "cells": [
  {
   "cell_type": "code",
   "execution_count": 0,
   "metadata": {
    "application/vnd.databricks.v1+cell": {
     "cellMetadata": {
      "byteLimit": 2048000,
      "rowLimit": 10000
     },
     "inputWidgets": {},
     "nuid": "1caf9027-f60e-4ce5-bc98-0237aca25016",
     "showTitle": false,
     "title": ""
    }
   },
   "outputs": [],
   "source": [
    "class invoiceStream():\n",
    "    def __init__(self):\n",
    "        self.base_data_dir = \"/FileStore/invoices\"\n",
    "        \n",
    "\n",
    "    def getSchema(self):\n",
    "        return \"\"\"InvoiceNumber string, CreatedTime bigint, StoreID string, PosID string, CashierID string, CustomerType string, CustomerCardNo string, TotalAmount double, NumberOfItems bigint, PaymentMethod string, TaxableAmount double, CGST double, SGST double, CESS double, DeliveryType string, \n",
    "        DeliveryAddress struct<AddressLine string, City string, ContactNumber string, Pincode string, State string>,\n",
    "        InvoiceLineItems array<struct<ItemCode string, ItemDescription string, ItemPrice double, ItemQty bigint, TotalValue double>>\n",
    "         \"\"\"\n",
    "    def readInvoices(self):\n",
    "        return (spark.readStream\n",
    "                .format(\"json\")\n",
    "                .schema(self.getSchema())\n",
    "                .load(f\"{self.base_data_dir}/data\")\n",
    "                )\n",
    "        \n",
    "    def explodeInvoices(self, invoiceDF):\n",
    "        return (invoiceDF.selectExpr(\"InvoiceNumber\", \"CreatedTime\", \"StoreId\", \"PosID\", \"CustomerTYpe\", \"PaymentMethod\", \"DeliveryType\", \"DeliveryAddress.City\", \"DeliveryAddress.State\", \"DeliveryAddress.PinCode\", \"explode(InvoiceLineItems) as LineItem\"))\n",
    "    \n",
    "    def flattenInvoices(self, explodeDF):\n",
    "        from pyspark.sql.functions import expr\n",
    "        return(explodeDF.withColumn(\"ItemsCode\", expr(\"LineItem.ItemCode\"))\n",
    "               .withColumn(\"ItemDescription\", expr(\"LineItem.ItemDescription\"))\n",
    "               .withColumn(\"ItemPrice\", expr(\"LineItem.ItemPrice\"))\n",
    "               .withColumn(\"ItemQty\", expr(\"LineItem.ItemQty\"))\n",
    "               .withColumn(\"TotalValue\", expr(\"LineItem.TotalValue\"))\n",
    "               .drop(\"LineItem\")\n",
    "            )\n",
    "    def appendInvoices(self, flattenedDF):\n",
    "        return(flattenedDF.writeStream\n",
    "               .format(\"delta\")\n",
    "               .option(\"checkpointLocation\", f\"{self.base_data_dir}/chekpoint/invoices\")\n",
    "               .outputMode(\"append\")\n",
    "               .toTable(\"invoice_line_items\"))\n",
    "    \n",
    "    def process(self):\n",
    "        print(f\"Starting Invoice Processing Stream...\", end='')\n",
    "        invoiceDf=self.readInvoices()\n",
    "        explodedDF=self.explodeInvoices(invoiceDf)\n",
    "        resultDF = self.flattenInvoices(explodedDF)\n",
    "        sQuery = self.appendInvoices(resultDF)\n",
    "        print(\"Done\\n\")\n",
    "        return sQuery\n",
    "        \n"
   ]
  }
 ],
 "metadata": {
  "application/vnd.databricks.v1+notebook": {
   "dashboards": [],
   "language": "python",
   "notebookMetadata": {
    "pythonIndentUnit": 4
   },
   "notebookName": "03_invoice_stream",
   "widgets": {}
  }
 },
 "nbformat": 4,
 "nbformat_minor": 0
}

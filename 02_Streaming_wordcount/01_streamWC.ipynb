{
 "cells": [
  {
   "cell_type": "code",
   "execution_count": 0,
   "metadata": {
    "application/vnd.databricks.v1+cell": {
     "cellMetadata": {
      "byteLimit": 2048000,
      "rowLimit": 10000
     },
     "inputWidgets": {},
     "nuid": "a2d130e3-e719-4a81-91ea-3e2fee0be074",
     "showTitle": false,
     "title": ""
    }
   },
   "outputs": [],
   "source": [
    "class streamWC():\n",
    "    def __init__(self):\n",
    "        self.base_data_dir = \"/FileStore/week01\"\n",
    "    \n",
    "    def getRawData(self):\n",
    "        from pyspark.sql.functions import explode, split\n",
    "        lines=(spark.readStream\n",
    "               .format(\"text\")\n",
    "               .option(\"lineSep\", \".\")\n",
    "               .load(f\"{self.base_data_dir}/data\")\n",
    "               )\n",
    "        return lines.select(explode(split(lines.value, \" \")).alias(\"word\")\n",
    "        )\n",
    "\n",
    "    def getQualityData(self, rawDF):\n",
    "        from pyspark.sql.functions import trim, lower\n",
    "        return (rawDF.select(lower(trim(rawDF.word)).alias(\"word\"))\n",
    "                .where(\"word is not null\")\n",
    "                .where(\"word rlike '[a-z]'\")\n",
    "                )\n",
    "    \n",
    "    def getWordCount(self, qualityDF):\n",
    "        return qualityDF.groupBy(\"word\").count()\n",
    "    \n",
    "    def overwriteWordCount(self, wordCountDF):\n",
    "        return(wordCountDF.writeStream\n",
    "               .format(\"delta\")\n",
    "               .option(\"checkpointLocation\", f\"{self.base_data_dir}/chekpoint/chekpoint\")\n",
    "               .outputMode(\"complete\")\n",
    "               .toTable(\"word_count_table\")\n",
    "                )\n",
    "        \n",
    "    def wordCount(self):\n",
    "        print(f\"\\tStarting Word Count Stream...\", end='')\n",
    "        rawDF=self.getRawData()\n",
    "        qualityDF=self.getQualityData(rawDF)\n",
    "        resultDF = self.getWordCount(qualityDF)\n",
    "        sQuery = self.overwriteWordCount(resultDF)\n",
    "        print(\"Done\")\n",
    "        return sQuery"
   ]
  }
 ],
 "metadata": {
  "application/vnd.databricks.v1+notebook": {
   "dashboards": [],
   "language": "python",
   "notebookMetadata": {
    "pythonIndentUnit": 4
   },
   "notebookName": "01_streamWC",
   "widgets": {}
  }
 },
 "nbformat": 4,
 "nbformat_minor": 0
}

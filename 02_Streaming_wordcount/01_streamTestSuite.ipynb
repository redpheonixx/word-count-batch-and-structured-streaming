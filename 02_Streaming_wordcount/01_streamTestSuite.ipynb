{
 "cells": [
  {
   "cell_type": "code",
   "execution_count": 0,
   "metadata": {
    "application/vnd.databricks.v1+cell": {
     "cellMetadata": {
      "byteLimit": 2048000,
      "rowLimit": 10000
     },
     "inputWidgets": {},
     "nuid": "3c861317-98b7-4e44-9bdb-7cadd2d8e961",
     "showTitle": false,
     "title": ""
    }
   },
   "outputs": [],
   "source": [
    "%run ./01_streamWC\n"
   ]
  },
  {
   "cell_type": "code",
   "execution_count": 0,
   "metadata": {
    "application/vnd.databricks.v1+cell": {
     "cellMetadata": {
      "byteLimit": 2048000,
      "rowLimit": 10000
     },
     "inputWidgets": {},
     "nuid": "3a46840c-5ca8-4cc7-839d-84245f1c46ea",
     "showTitle": false,
     "title": ""
    }
   },
   "outputs": [],
   "source": [
    "class streamTestSuite():\n",
    "    def __init__(self):\n",
    "        self.base_data_dir =  \"/FileStore/week01\"\n",
    "\n",
    "    def cleanTests(self):\n",
    "        print(f\"Starting Cleanup...\", end='')\n",
    "        spark.sql(\"drop table if exists word_count_table\")\n",
    "        dbutils.fs.rm(\"/user/hive/warehousr/word_count_table\", True)\n",
    "\n",
    "        dbutils.fs.rm(f\"{self.base_data_dir}/chekpoint\", True)\n",
    "        dbutils.fs.rm(f\"{self.base_data_dir}/data\", True)\n",
    "\n",
    "        dbutils.fs.mkdirs(f\"{self.base_data_dir}/data\")\n",
    "        print(\"Done\\n\")\n",
    "\n",
    "    def ingestData(self, itr):\n",
    "        print(f\"\\tStarting Ingestion...\", end='')\n",
    "        dbutils.fs.cp(f\"{self.base_data_dir}/text_0{itr}.txt\", f\"{self.base_data_dir}/data/\")\n",
    "        print(\"Done\")\n",
    "\n",
    "    def assertResult(self, expected_count):\n",
    "        print(f\"\\tStarting validation...\", end='')\n",
    "        actual_count=spark.sql(\"select sum(count) from word_count_table\").collect()[0][0]\n",
    "        assert expected_count==actual_count, f\"Test failed! actual count is {actual_count}\"\n",
    "        print(actual_count)\n",
    "        print(\"Done\")\n",
    "\n",
    "    def runTests(self):\n",
    "        import time\n",
    "        sleepTime=30\n",
    "\n",
    "        self.cleanTests()\n",
    "        wc=streamWC()\n",
    "        sQuery = wc.wordCount()\n",
    "\n",
    "        print(\"Testing first iteration of batch word count...\")\n",
    "        self.ingestData(1)\n",
    "        print(f\"\\tWaiting for {sleepTime} seconds...\")\n",
    "        time.sleep(sleepTime)\n",
    "        self.assertResult(29010)\n",
    "        print(\"First iteration of batch word count completed.\\n\")\n",
    "\n",
    "        print(\"Testing second iteration of batch word count...\")\n",
    "        self.ingestData(2)\n",
    "        print(f\"\\tWaiting for {sleepTime} seconds...\")\n",
    "        time.sleep(sleepTime)\n",
    "        self.assertResult(175797)\n",
    "        print(\"Second iteration of batch word count completed.\\n\")\n",
    "\n",
    "        print(\"Testing third iteration of batch word count\")\n",
    "        self.ingestData(3)\n",
    "        print(f\"\\tWaiting for {sleepTime} seconds...\")\n",
    "        time.sleep(sleepTime)\n",
    "        self.assertResult(252462)\n",
    "        print(\"Third iteration of batch word count completed.\\n\")\n",
    "\n",
    "        sQuery.stop()"
   ]
  },
  {
   "cell_type": "code",
   "execution_count": 0,
   "metadata": {
    "application/vnd.databricks.v1+cell": {
     "cellMetadata": {
      "byteLimit": 2048000,
      "rowLimit": 10000
     },
     "inputWidgets": {},
     "nuid": "119a35ac-864e-4d3b-a206-02927ac94aaf",
     "showTitle": false,
     "title": ""
    }
   },
   "outputs": [
    {
     "output_type": "stream",
     "name": "stdout",
     "output_type": "stream",
     "text": [
      "Starting Cleanup...Done\n\n\tStarting Word Count Stream...Done\nTesting first iteration of batch word count...\n\tStarting Ingestion...Done\n\tWaiting for 30 seconds...\n\tStarting validation...29010\nDone\nFirst iteration of batch word count completed.\n\nTesting second iteration of batch word count...\n\tStarting Ingestion...Done\n\tWaiting for 30 seconds...\n\tStarting validation...175797\nDone\nSecond iteration of batch word count completed.\n\nTesting third iteration of batch word count\n\tStarting Ingestion...Done\n\tWaiting for 30 seconds...\n\tStarting validation...252462\nDone\nThird iteration of batch word count completed.\n\n"
     ]
    }
   ],
   "source": [
    "swcTS = streamTestSuite()\n",
    "swcTS.runTests()"
   ]
  }
 ],
 "metadata": {
  "application/vnd.databricks.v1+notebook": {
   "dashboards": [],
   "language": "python",
   "notebookMetadata": {
    "pythonIndentUnit": 4
   },
   "notebookName": "01_streamTestSuite",
   "widgets": {}
  }
 },
 "nbformat": 4,
 "nbformat_minor": 0
}
